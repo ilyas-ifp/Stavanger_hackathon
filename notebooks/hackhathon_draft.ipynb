{
 "cells": [
  {
   "cell_type": "markdown",
   "id": "639d52f5-2798-430a-abfd-03a1662562b4",
   "metadata": {},
   "source": [
    "graph definition"
   ]
  },
  {
   "cell_type": "code",
   "execution_count": 27,
   "id": "0c45ffd5-2ccb-400a-90b9-a807acaa75ca",
   "metadata": {},
   "outputs": [],
   "source": [
    "# import section\n",
    "\n",
    "from scipy.spatial import distance_matrix\n",
    "import networkx as nx"
   ]
  },
  {
   "cell_type": "code",
   "execution_count": 28,
   "id": "b03b2bd2-19d9-475f-ab40-a83087d59976",
   "metadata": {},
   "outputs": [],
   "source": [
    "def compute_adjacency_matrix(route_distances, num_neighbors):\n",
    "    route_distances = route_distances.to_numpy() \n",
    "    num_links = route_distances.shape[0]\n",
    "    route_distances = route_distances / np.max(route_distances)\n",
    "    closest_nodes = np.argsort(route_distances, axis=1)[:, :num_neighbors]\n",
    "    adjacency_matrix = np.zeros((num_links, num_links))\n",
    "\n",
    "    for i in range(num_links):\n",
    "        adjacency_matrix[i, closest_nodes[i]] = 1\n",
    "\n",
    "    w_mask = np.ones([num_links, num_links]) - np.identity(num_links)\n",
    "    adjacency_matrix = adjacency_matrix.astype(int) * w_mask\n",
    "    edge_attributes = route_distances[adjacency_matrix == 1]\n",
    "\n",
    "    return adjacency_matrix, edge_attributes"
   ]
  },
  {
   "cell_type": "code",
   "execution_count": 29,
   "id": "ce0aa7d1-6ce0-469a-89ce-3779e85b8013",
   "metadata": {},
   "outputs": [
    {
     "ename": "NameError",
     "evalue": "name 'typing' is not defined",
     "output_type": "error",
     "traceback": [
      "\u001b[1;31m---------------------------------------------------------------------------\u001b[0m",
      "\u001b[1;31mNameError\u001b[0m                                 Traceback (most recent call last)",
      "Cell \u001b[1;32mIn[29], line 3\u001b[0m\n\u001b[0;32m      1\u001b[0m \u001b[38;5;66;03m#graph class : edges, nodes, adjacency matrix (from the distance matrix), here i use a custom function\u001b[39;00m\n\u001b[1;32m----> 3\u001b[0m \u001b[38;5;28;01mclass\u001b[39;00m \u001b[38;5;21;01mGraphInfo\u001b[39;00m:\n\u001b[0;32m      4\u001b[0m     \u001b[38;5;28;01mdef\u001b[39;00m \u001b[38;5;21m__init__\u001b[39m(\u001b[38;5;28mself\u001b[39m, edges: typing\u001b[38;5;241m.\u001b[39mTuple[\u001b[38;5;28mlist\u001b[39m, \u001b[38;5;28mlist\u001b[39m], num_nodes: \u001b[38;5;28mint\u001b[39m):\n\u001b[0;32m      5\u001b[0m         \u001b[38;5;28mself\u001b[39m\u001b[38;5;241m.\u001b[39medges \u001b[38;5;241m=\u001b[39m edges\n",
      "Cell \u001b[1;32mIn[29], line 4\u001b[0m, in \u001b[0;36mGraphInfo\u001b[1;34m()\u001b[0m\n\u001b[0;32m      3\u001b[0m \u001b[38;5;28;01mclass\u001b[39;00m \u001b[38;5;21;01mGraphInfo\u001b[39;00m:\n\u001b[1;32m----> 4\u001b[0m     \u001b[38;5;28;01mdef\u001b[39;00m \u001b[38;5;21m__init__\u001b[39m(\u001b[38;5;28mself\u001b[39m, edges: \u001b[43mtyping\u001b[49m\u001b[38;5;241m.\u001b[39mTuple[\u001b[38;5;28mlist\u001b[39m, \u001b[38;5;28mlist\u001b[39m], num_nodes: \u001b[38;5;28mint\u001b[39m):\n\u001b[0;32m      5\u001b[0m         \u001b[38;5;28mself\u001b[39m\u001b[38;5;241m.\u001b[39medges \u001b[38;5;241m=\u001b[39m edges\n\u001b[0;32m      6\u001b[0m         \u001b[38;5;28mself\u001b[39m\u001b[38;5;241m.\u001b[39mnum_nodes \u001b[38;5;241m=\u001b[39m num_nodes\n",
      "\u001b[1;31mNameError\u001b[0m: name 'typing' is not defined"
     ]
    }
   ],
   "source": [
    "#graph class : edges, nodes, adjacency matrix (from the distance matrix), here i use a custom function\n",
    "\n",
    "class GraphInfo:\n",
    "    def __init__(self, edges: typing.Tuple[list, list], num_nodes: int):\n",
    "        self.edges = edges\n",
    "        self.num_nodes = num_nodes\n",
    "\n",
    "adjacency_matrix, edge_attributes = compute_adjacency_matrix(distance_matrix, num_neighbors=4)\n",
    "\n",
    "node_indices, neighbor_indices = np.where(adjacency_matrix == 1)\n",
    "\n",
    "# graph definition\n",
    "graph = GraphInfo(\n",
    "    edges=(node_indices.tolist(), neighbor_indices.tolist()),\n",
    "    num_nodes=adjacency_matrix.shape[0],\n",
    ")\n",
    "\n",
    "print(f\"number of nodes: {graph.num_nodes}, number of edges: {len(graph.edges[0])}\")"
   ]
  },
  {
   "cell_type": "code",
   "execution_count": 26,
   "id": "745af902-1a97-4a1b-b374-9b0e6cddaf8e",
   "metadata": {},
   "outputs": [],
   "source": [
    "#visualize with NetworkX\n",
    "\n",
    "G = nx.Graph()\n",
    "G.add_nodes_from(range(graph.num_nodes))\n",
    "edges = zip(graph.edges[0], graph.edges[1])\n",
    "G.add_edges_from(edges)\n",
    "\n",
    "fig, ax = plt.subplots(figsize=(50, 25))\n",
    "\n",
    "nx.draw(G, with_labels=True, node_color='red', node_size=100, edge_color='black', width=0.9, ax=ax)\n",
    "plt.show()"
   ]
  },
  {
   "cell_type": "markdown",
   "id": "33a31db4-e585-45a5-8d06-96760895e1fd",
   "metadata": {},
   "source": [
    "search for embedding similarities: example from notebook"
   ]
  },
  {
   "cell_type": "code",
   "execution_count": null,
   "id": "f80915c5-872d-4376-bbe8-7f9fb214dafe",
   "metadata": {},
   "outputs": [],
   "source": [
    "#OpenAI part\n",
    "\n",
    "openai_client = AzureOpenAI(\n",
    "    api_version=os.environ[\"OPENAI_API_VERSION\"],\n",
    "    azure_endpoint=os.environ[\"OPENAI_API_BASE\"],\n",
    "    api_key=os.environ[\"OPENAI_API_KEY\"]\n",
    ")\n",
    "\n",
    "embedding = openai_client.embeddings.create(input=[\"sample text\", \"other sample text\"], \n",
    "                                    model=os.environ[\"ADA002_DEPLOYMENT\"])\n",
    "\n",
    "print(len(embedding.data[0].embedding))"
   ]
  },
  {
   "cell_type": "code",
   "execution_count": null,
   "id": "9294b731-b784-4118-bd0b-8518cc6181ed",
   "metadata": {},
   "outputs": [],
   "source": [
    "embedded_question = openai_client.embeddings.create(input=[\"I'm looking for examples of End of Well Reports from Vermillion Energy?\"], \n",
    "                                    model=os.environ[\"ADA002_DEPLOYMENT\"])\n",
    "embedded_question = np.array(embedded_question.data[0].embedding).reshape(1, -1)\n",
    "\n",
    "sentence_embeddings_ada_np = np.array(sentence_embeddings_ada)\n",
    "\n",
    "print(sentence_embeddings_ada_np.shape)\n",
    "\n",
    "cosines = cosine_similarity(embedded_question, sentence_embeddings_ada_np)\n",
    "sorted_sentences = [sentences[idx] for idx in np.argsort(cosines)[0][::-1]]\n",
    "sorted_sentences_df = pd.DataFrame({\"most similar sentences in corpus\": sorted_sentences[:5]})\n",
    "\n",
    "sorted_sentences_df = set_styling(sorted_sentences_df)\n",
    "display(sorted_sentences_df)"
   ]
  },
  {
   "cell_type": "markdown",
   "id": "fb2fa06f-c787-482a-adc4-49fec7a1446a",
   "metadata": {},
   "source": [
    "different LLM agents "
   ]
  },
  {
   "cell_type": "code",
   "execution_count": null,
   "id": "9b5a5ef4-d35d-423e-8c76-84c08de88d4c",
   "metadata": {},
   "outputs": [],
   "source": [
    "from collections import Counter\n",
    "from transformers import pipeline\n",
    "\n",
    "models = [\"model1\", \"model2\"]\n",
    "\n",
    "pipelines = [pipeline(\"text\", model = model) for model in models]\n",
    "\n",
    "def get_predictions(txt):\n",
    "    # faire un echang sans intersection\n",
    "    predictions = [pipeline(txt) for pipeline in pipelines]\n",
    "    return predictions\n",
    "\n",
    "def majority_vote(predictions):\n",
    "    all_pred = [prediction[\"txt\"] for model_predictions in predictions for prediction in model_predictions]\n",
    "    vote_counter = Counter(all_predictions)\n",
    "    majority_predict = vote_counter.most_common(1)[0][0]\n",
    "    return majority_prediction\n",
    "    "
   ]
  },
  {
   "cell_type": "code",
   "execution_count": null,
   "id": "73022c54-36d4-45ba-84a6-9cf85d1d50cc",
   "metadata": {},
   "outputs": [],
   "source": [
    "def edge_creation_fun(data_embedding):\n",
    "    print(data_embending_np.shape)\n",
    "    my_edge=[]\n",
    "    my_nodes=[]\n",
    "    for i in range(len(data_embedding)):\n",
    "        for j in range(i+1,len(data_embedding)):\n",
    "            my_cosine = cosine_similarity(data_embedding[i], data_embedding[j])\n",
    "            if(my_cosine>seuil):\n",
    "                # Stockage des résultats et des indices\n",
    "                my_edge.append(my_cosine)\n",
    "                my_nodes.append((i, j))\n",
    "    return my_edge, my_nodes"
   ]
  },
  {
   "cell_type": "code",
   "execution_count": null,
   "id": "a9e06a8d-6440-4ff5-99f7-6f1e788771c6",
   "metadata": {},
   "outputs": [],
   "source": [
    "import numpy as np\n",
    "from sklearn.metrics.pairwise import cosine_similarity\n",
    "def edge_creation_fun2(data_embedding, seuil):\n",
    "    # Calculer la similarité cosinus entre toutes les paires de vecteurs\n",
    "    similarities = cosine_similarity(data_embedding, data_embedding)\n",
    "    # Trouver les indices des paires similaires où row_indices est différent de col_indices\n",
    "    row_indices, col_indices = np.where((similarities > seuil) & (np.arange(len(data_embedding))[:, None] != np.arange(len(data_embedding))))\n",
    "    # Créer une liste d'arêtes et de nœuds\n",
    "    my_edge = [similarities[i, j] for i, j in zip(row_indices, col_indices)]\n",
    "    my_nodes = list(zip(row_indices, col_indices))\n",
    "    return my_edge, my_nodes"
   ]
  },
  {
   "cell_type": "code",
   "execution_count": null,
   "id": "ca5debda-c3cd-4c88-8e5e-4bc4ce21f96e",
   "metadata": {},
   "outputs": [],
   "source": [
    "from dotenv import load_dotenv\n",
    "import os\n",
    "from openai import AzureOpenAI\n",
    "from langchain.vectorstores import FAISS\n",
    "import numpy as np\n",
    "\n",
    "load_dotenv(\".env.shared\")\n",
    "load_dotenv(\".env.secret\")\n",
    "openai_client = AzureOpenAI(\n",
    "    api_version=os.environ[\"OPENAI_API_VERSION\"],\n",
    "    azure_endpoint=os.environ[\"OPENAI_API_BASE\"],\n",
    "    api_key=os.environ[\"OPENAI_API_KEY\"]\n",
    ")\n",
    "def compute_embeddings(input) :\n",
    "    embedded_question = openai_client.embeddings.create(input=[\"I'm looking for examples of End of Well Reports from Vermillion Energy?\"],\n",
    "                                    model=os.environ[\"ADA002_DEPLOYMENT\"])\n",
    "    embedded_question = np.array(embedded_question.data[0].embedding).reshape(1, -1)\n",
    "    return embedded_question\n",
    "    \n",
    "def main() :\n",
    "    query = \"I'm looking for examples of End of Well Reports from Vermillion Energy?\"\n",
    "    db = FAISS.load_local(\"data/embeddings\",openai_client.embeddings.create(model=os.environ[\"ADA002_DEPLOYMENT\"],input=\"\"))\n",
    "    docs = db.similarity_search(query)\n",
    "    print(docs[0].page_content)\n",
    "if __name__ == \"__main__\" :\n",
    "    main()"
   ]
  }
 ],
 "metadata": {
  "kernelspec": {
   "display_name": "Python 3 (ipykernel)",
   "language": "python",
   "name": "python3"
  },
  "language_info": {
   "codemirror_mode": {
    "name": "ipython",
    "version": 3
   },
   "file_extension": ".py",
   "mimetype": "text/x-python",
   "name": "python",
   "nbconvert_exporter": "python",
   "pygments_lexer": "ipython3",
   "version": "3.10.9"
  }
 },
 "nbformat": 4,
 "nbformat_minor": 5
}
